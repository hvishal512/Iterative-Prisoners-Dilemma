{
  "nbformat": 4,
  "nbformat_minor": 0,
  "metadata": {
    "colab": {
      "name": "Monte_Carlo_IPD.ipynb",
      "provenance": [],
      "collapsed_sections": []
    },
    "kernelspec": {
      "name": "python3",
      "display_name": "Python 3"
    },
    "language_info": {
      "name": "python"
    }
  },
  "cells": [
    {
      "cell_type": "code",
      "execution_count": null,
      "metadata": {
        "id": "cRXiXfBOAxXc"
      },
      "outputs": [],
      "source": [
        "#Import packages\n",
        "\n",
        "import autograd.numpy as np\n",
        "from statistics import mean, median\n",
        "import matplotlib.pyplot as plt\n",
        "from math import log\n",
        "from random import randint, uniform\n",
        "from tqdm import tqdm\n",
        "import copy\n",
        "from autograd import grad\n",
        "from autograd.numpy.linalg import inv\n",
        "from matplotlib import pyplot as plt"
      ]
    },
    {
      "cell_type": "markdown",
      "source": [
        "## Monte Carlo Simulation to find expected payoffs"
      ],
      "metadata": {
        "id": "xq5TUqS2sIMX"
      }
    },
    {
      "cell_type": "code",
      "source": [
        "### MONTE CARLO SIMULATION FOR IPD  ###\n",
        "\n",
        "### Written on Sat, Feb 5 2022 ###  \n",
        "\n",
        "#size of state space (cc, cd, dc, dd)\n",
        "n = 4 \n",
        "\n",
        "#Initialize episodic returns to empty for all s in S\n",
        "returns_A = [[],[],[],[]]\n",
        "returns_B = [[],[],[],[]]\n",
        "\n",
        "#Payoff matrix\n",
        "R_A = np.array([3.0,0.0,5.0,1.0])\n",
        "R_B = np.array([3.0,5.0,0.0,1.0])\n",
        "\n",
        "#Probability distribtution over state space\n",
        "pi = np.array([0.25, 0.25, 0.25, 0.25])\n",
        "\n",
        "#Pair of policiies. Shown below is tit-for-tat \n",
        "pi_A = np.array([1.0,0.0,1.0,0.0])\n",
        "pi_B = np.array([1.0,1.0,0.0,0.0])\n",
        "\n",
        "#Probability of ending the game\n",
        "gamma = 0.01\n",
        "\n",
        "#Number of espisodes\n",
        "num_epi = 1000\n",
        "\n",
        "for i in tqdm(range(num_epi)):\n",
        "\n",
        "  epi_len = 0 #keep track of episode length\n",
        "\n",
        "  #Sample a random start state\n",
        "  s0 = np.random.choice(np.arange(4), p = pi)\n",
        "\n",
        "  #Compute the total payoff obtained from that state following pair of policies\n",
        "  payoff_A = 0\n",
        "  payoff_B = 0\n",
        "\n",
        "  #states = []\n",
        "  #states.append(s0)\n",
        "\n",
        "  while(True):\n",
        "\n",
        "    if uniform(0,1) < gamma:\n",
        "      \n",
        "      payoff_A += R_A[s0]\n",
        "      payoff_B += R_B[s0]\n",
        "      epi_len += 1\n",
        "\n",
        "      break\n",
        "\n",
        "    else:\n",
        "\n",
        "      #Find the next state based on the strategies \n",
        "\n",
        "      if epi_len == 0:\n",
        "        p_A = pi_A[s0] #Probability of agent A cooperating when is state s\n",
        "        p_B = pi_B[s0] #Probability of agent B cooperating when is state s\n",
        "\n",
        "      else:\n",
        "        p_A = pi_A[s]\n",
        "        p_B = pi_B[s]\n",
        "\n",
        "      if p_A >= 0.5:\n",
        "        move_A = 'C'\n",
        "      else:\n",
        "        move_A = 'D'\n",
        "\n",
        "      if p_B >= 0.5:\n",
        "        move_B = 'C'\n",
        "      else:\n",
        "        move_B = 'D'\n",
        "\n",
        "      #CC\n",
        "      if move_A == 'C' and move_B == 'C':\n",
        "        s = 0\n",
        "\n",
        "      #CD\n",
        "      elif move_A == 'C' and move_B == 'D':\n",
        "        s = 1\n",
        "\n",
        "      #DC\n",
        "      elif move_A == 'D' and move_B == 'C':\n",
        "        s = 2\n",
        "\n",
        "      #DD\n",
        "      else:\n",
        "        s = 3\n",
        "\n",
        "      #Increment episode length and add the incremental payoffs\n",
        "      epi_len += 1\n",
        "      payoff_A += R_A[s]\n",
        "      payoff_B += R_B[s]\n",
        "\n",
        "      #states.append(s)\n",
        "\n",
        "  #A sample of an expected payoff from state \n",
        "  returns_A[s0].append(payoff_A/epi_len)\n",
        "  returns_B[s0].append(payoff_B/epi_len)\n",
        "\n",
        "#Print to screen after averaging across episodes\n",
        "print(\"\\n\")\n",
        "value_A = [np.average(returns_A[s]) for s in range(n)]\n",
        "print(\"Value function for agent A in states cc, cd, dc and dd is: \\n\",value_A)\n",
        "value_B = [np.average(returns_B[s]) for s in range(n)]\n",
        "print(\"Value function for agent B in states cc, cd, dc and dd is: \\n\",value_B)"
      ],
      "metadata": {
        "id": "HWAKFlC89pTV",
        "colab": {
          "base_uri": "https://localhost:8080/"
        },
        "outputId": "98042c97-4497-4cde-f6b8-7fae6b0ced3a"
      },
      "execution_count": null,
      "outputs": [
        {
          "output_type": "stream",
          "name": "stderr",
          "text": [
            "100%|██████████| 1000/1000 [00:00<00:00, 4512.29it/s]"
          ]
        },
        {
          "output_type": "stream",
          "name": "stdout",
          "text": [
            "\n",
            "\n",
            "Value function for agent A in states cc, cd, dc and dd is: \n",
            " [3.0, 2.4341014859512233, 2.572042308549163, 1.0]\n",
            "Value function for agent B in states cc, cd, dc and dd is: \n",
            " [3.0, 2.5658985140487767, 2.427957691450837, 1.0]\n"
          ]
        },
        {
          "output_type": "stream",
          "name": "stderr",
          "text": [
            "\n"
          ]
        }
      ]
    },
    {
      "cell_type": "markdown",
      "source": [
        "## Policy Gradients to find optimal behavior "
      ],
      "metadata": {
        "id": "ZNFpO_iUsVxu"
      }
    },
    {
      "cell_type": "code",
      "source": [
        "### Find the entries of transition matrix based on pairs of policies\n",
        "\n",
        "def transition_matrix(policy_A, policy_B):\n",
        "\n",
        "  #v1 = p.*q v2 = p.*(1-q) v3 = (1-p).*q v4 = (1-p).*(1-q), where .* denoted hadamard product\n",
        "  v1 = np.multiply(policy_A, policy_B)\n",
        "  v2 = np.multiply(policy_A, 1. - policy_B)\n",
        "  v3 = np.multiply(1. - policy_A, policy_B)\n",
        "  v4 = np.multiply(1. - policy_A, 1. - policy_B)\n",
        "\n",
        "  #Stack the colum vectors into a matrix\n",
        "  return np.vstack((v1, v2, v3, v4))"
      ],
      "metadata": {
        "id": "JVMKAsf-C0Wu"
      },
      "execution_count": null,
      "outputs": []
    },
    {
      "cell_type": "code",
      "source": [
        "#Utility function J_A for agent A using matrix expression  \n",
        "def J_A(policy_A, policy_B, pi, gamma):\n",
        "\n",
        "  #Compute gamma(I-(1-gamma)P)^-1*R_A\n",
        "  P = transition_matrix(policy_A, policy_B)\n",
        "  n = len(pi)\n",
        "  x1 = np.identity(n)\n",
        "  x2 = (gamma-1)*P\n",
        "  x3 = gamma*inv(np.add(x1,x2))\n",
        "  x4 = np.matmul(x3, R_A)\n",
        "\n",
        "  #Average over starting probability distribution\n",
        "  return np.dot(x4, pi)"
      ],
      "metadata": {
        "id": "egQgCFKwQelP"
      },
      "execution_count": null,
      "outputs": []
    },
    {
      "cell_type": "code",
      "source": [
        "#Utility function J_B for agent B using matrix expression  \n",
        "def J_B(policy_A, policy_B, pi, gamma):\n",
        "\n",
        "  P = transition_matrix(policy_A, policy_B)\n",
        "  \n",
        "  n = len(pi)\n",
        "  x1 = np.identity(n)\n",
        "  x2 = (gamma-1)*P\n",
        "  x3 = gamma*inv(np.add(x1,x2))\n",
        "  x4 = np.matmul(x3, R_B)\n",
        "\n",
        "  #Average over starting probability distribution\n",
        "  return np.dot(x4, pi)"
      ],
      "metadata": {
        "id": "SkDkU7qNO4ty"
      },
      "execution_count": null,
      "outputs": []
    },
    {
      "cell_type": "code",
      "source": [
        "JA_p = grad(J_A, 0) #Derivative of J_A w.r.t policy of agent A\n",
        "JB_q = grad(J_B, 1) #Derivative of J_B w.r.t policy of agent A p"
      ],
      "metadata": {
        "id": "jDaRXHO-7rx2"
      },
      "execution_count": null,
      "outputs": []
    },
    {
      "cell_type": "code",
      "source": [
        "### Test if autograd works\n",
        "\n",
        "pi = np.array([0.25, 0.25, 0.3, 0.3])\n",
        "pi_A = np.array([0.25, 0.25, 0.25, 0.25])\n",
        "pi_B = np.array([0.25, 0.25, 0.25, 0.25])\n",
        "JA_p(pi_A, pi_B, pi, 1)\n",
        "JB_q(pi_A, pi_B, pi, 1)"
      ],
      "metadata": {
        "colab": {
          "base_uri": "https://localhost:8080/"
        },
        "id": "pCN0gBVYIqJy",
        "outputId": "234933ef-7024-409f-baba-5830b2848203"
      },
      "execution_count": null,
      "outputs": [
        {
          "output_type": "execute_result",
          "data": {
            "text/plain": [
              "array([0.04232794, 0.12668413, 0.1263095 , 0.37900343])"
            ]
          },
          "metadata": {},
          "execution_count": 11
        }
      ]
    },
    {
      "cell_type": "code",
      "source": [
        "def SimGD(pi_A_init, pi_B_init, alpha, pi, gamma, maxitr = 1000):\n",
        "\n",
        "  trajectory_A = [pi_A_init]\n",
        "  trajectory_B = [pi_B_init]\n",
        "  \n",
        "  for i in tqdm(range(maxitr)):\n",
        "\n",
        "    #Compute gradients\n",
        "    JA_p = grad(J_A, 0) \n",
        "    JB_q = grad(J_B, 1)\n",
        "\n",
        "    #Independtently update the strategies for A and B\n",
        "    pi_A_new = pi_A_init - alpha*JA_p(pi_A_init, pi_B_init, pi, gamma)\n",
        "    pi_B_new = pi_B_init - alpha*JB_q(pi_A_init, pi_B_init, pi, gamma)\n",
        "\n",
        "    #Break the loop if the policies are not changing \n",
        "    if np.linalg.norm(pi_A_new - pi_A_init) < 10**-6 and  np.linalg.norm(pi_B_new - pi_B_init) < 10**-6 :\n",
        "      break\n",
        "\n",
        "    #Cache the new strateies\n",
        "    trajectory_A.append(pi_A_new)\n",
        "    trajectory_B.append(pi_B_new)\n",
        "    pi_A_init = pi_A_new\n",
        "    pi_B_init = pi_B_new\n",
        "\n",
        "  \n",
        "  return pi_A_init, pi_B_init, trajectory_A, trajectory_B"
      ],
      "metadata": {
        "id": "lt9Wdhi5sco0"
      },
      "execution_count": null,
      "outputs": []
    },
    {
      "cell_type": "code",
      "source": [
        "pi_A_final, pi_B_final, trajectory_A, trajectory_B = SimGD(pi_A, pi_B, 0.001, pi, gamma, 1000)"
      ],
      "metadata": {
        "colab": {
          "base_uri": "https://localhost:8080/"
        },
        "id": "4Xt2p_wSu_aQ",
        "outputId": "63f4dbec-884d-4ec0-89fe-184c9bab2487"
      },
      "execution_count": null,
      "outputs": [
        {
          "output_type": "stream",
          "name": "stderr",
          "text": [
            "100%|██████████| 1000/1000 [00:02<00:00, 389.86it/s]\n"
          ]
        }
      ]
    },
    {
      "cell_type": "code",
      "source": [
        "pi_A_final"
      ],
      "metadata": {
        "colab": {
          "base_uri": "https://localhost:8080/"
        },
        "id": "D7ORw4CYvOTH",
        "outputId": "6820d881-13d1-43fc-b970-8eac2409e6ca"
      },
      "execution_count": null,
      "outputs": [
        {
          "output_type": "execute_result",
          "data": {
            "text/plain": [
              "array([0.27305519, 0.19920351, 0.22382201, 0.44363393])"
            ]
          },
          "metadata": {},
          "execution_count": 15
        }
      ]
    },
    {
      "cell_type": "code",
      "source": [
        "plt.plot([x[0] for x in trajectory_A])\n",
        "plt.plot([x[1] for x in trajectory_A])\n",
        "plt.plot([x[2] for x in trajectory_A])\n",
        "plt.plot([x[3] for x in trajectory_A])"
      ],
      "metadata": {
        "colab": {
          "base_uri": "https://localhost:8080/",
          "height": 283
        },
        "id": "5l4ttfPxvdlS",
        "outputId": "a4edd241-86d2-41bf-a149-4a6b7803acf4"
      },
      "execution_count": null,
      "outputs": [
        {
          "output_type": "execute_result",
          "data": {
            "text/plain": [
              "[<matplotlib.lines.Line2D at 0x7fc3d868f0d0>]"
            ]
          },
          "metadata": {},
          "execution_count": 16
        },
        {
          "output_type": "display_data",
          "data": {
            "image/png": "[encoded data removed]",
            "text/plain": [
              "<Figure size 432x288 with 1 Axes>"
            ]
          },
          "metadata": {
            "needs_background": "light"
          }
        }
      ]
    },
    {
      "cell_type": "code",
      "source": [
        "plt.plot([x[0] for x in trajectory_B])\n",
        "plt.plot([x[1] for x in trajectory_B])\n",
        "plt.plot([x[2] for x in trajectory_B])\n",
        "plt.plot([x[3] for x in trajectory_B])"
      ],
      "metadata": {
        "colab": {
          "base_uri": "https://localhost:8080/",
          "height": 283
        },
        "id": "G53G5ns9xhuF",
        "outputId": "58f6484f-77fc-445f-d9b3-aebb326760f2"
      },
      "execution_count": null,
      "outputs": [
        {
          "output_type": "execute_result",
          "data": {
            "text/plain": [
              "[<matplotlib.lines.Line2D at 0x7fc3d817f3d0>]"
            ]
          },
          "metadata": {},
          "execution_count": 17
        },
        {
          "output_type": "display_data",
          "data": {
            "image/png": "[encoded data removed]",
            "text/plain": [
              "<Figure size 432x288 with 1 Axes>"
            ]
          },
          "metadata": {
            "needs_background": "light"
          }
        }
      ]
    }
  ]
}